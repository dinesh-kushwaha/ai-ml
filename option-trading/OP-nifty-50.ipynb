{
 "cells": [
  {
   "cell_type": "code",
   "execution_count": null,
   "metadata": {},
   "outputs": [],
   "source": [
    "import yfinance as yf\n",
    "import pandas as pd\n",
    "import numpy as np\n",
    "from datetime import datetime, timedelta\n",
    "\n",
    "# Step 1: Download Nifty 50 index data\n",
    "nifty_data = yf.download(\"^NSEI\", start=\"2023-01-01\", end=\"2023-12-31\")\n",
    "\n",
    "# Display the last few rows of data\n",
    "print(nifty_data.tail())\n",
    "\n",
    "# Step 2: Download Nifty 50 option chain for a specific expiration date\n",
    "ticker = \"^NSEI\"\n",
    "expiry_date = (datetime.now() + timedelta(days=30)).strftime('%Y-%m-%d')\n",
    "options_data = yf.Ticker(ticker).option_chain(expiry_date)\n",
    "\n",
    "# Display the option chain data (calls and puts)\n",
    "print(options_data.calls.head())\n",
    "print(options_data.puts.head())\n",
    "\n",
    "# Step 3: Select an options trading strategy (e.g., buying a call option)\n",
    "strike_price = nifty_data['Close'][-1] * 1.02  # Slightly out of the money\n",
    "selected_option = options_data.calls[options_data.calls['strike'] >= strike_price].iloc[0]\n",
    "\n",
    "# Step 4: Simulate the trade\n",
    "entry_price = selected_option['lastPrice']\n",
    "quantity = 1  # Number of contracts\n",
    "investment = entry_price * quantity\n",
    "\n",
    "print(f\"Buying {quantity} call option contract at strike {selected_option['strike']} for Rs. {entry_price} per contract.\")\n",
    "print(f\"Total investment: Rs. {investment}\")\n",
    "\n",
    "# Step 5: Evaluate the performance after a certain period\n",
    "# For simplicity, assume we hold until the expiration date or a significant price move\n",
    "holding_period = 30  # days\n",
    "exit_price = selected_option['lastPrice'] * 1.1  # Assume a 10% increase for the exit\n",
    "profit = (exit_price - entry_price) * quantity\n",
    "\n",
    "print(f\"Exit price: Rs. {exit_price} per contract.\")\n",
    "print(f\"Profit from the trade: Rs. {profit}\")\n",
    "\n",
    "# Step 6: Implement risk management (e.g., stop-loss, position sizing)\n",
    "stop_loss = 0.9 * entry_price  # 10% stop loss\n",
    "if exit_price < stop_loss:\n",
    "    print(\"Stop-loss triggered. Exiting the trade.\")\n",
    "    profit = (stop_loss - entry_price) * quantity\n",
    "\n",
    "print(f\"Final profit/loss from the trade: Rs. {profit}\")\n"
   ]
  }
 ],
 "metadata": {
  "language_info": {
   "name": "python"
  }
 },
 "nbformat": 4,
 "nbformat_minor": 2
}
