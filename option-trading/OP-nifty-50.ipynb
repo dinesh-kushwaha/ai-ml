{
 "cells": [
  {
   "cell_type": "code",
   "execution_count": 9,
   "metadata": {},
   "outputs": [
    {
     "name": "stderr",
     "output_type": "stream",
     "text": [
      "[*********************100%%**********************]  1 of 1 completed"
     ]
    },
    {
     "name": "stdout",
     "output_type": "stream",
     "text": [
      "                    Open          High           Low     Close  Adj Close  \\\n",
      "Date                                                                        \n",
      "2024-08-08  24248.550781  24340.500000  24079.699219  24117.00   24117.00   \n",
      "2024-08-09  24386.849609  24419.750000  24311.199219  24367.50   24367.50   \n",
      "2024-08-12  24320.050781  24472.800781  24212.099609  24347.00   24347.00   \n",
      "2024-08-13  24342.349609  24359.949219  24116.500000  24139.00   24139.00   \n",
      "2024-08-14  24184.400391  24196.500000  24099.699219  24143.75   24143.75   \n",
      "\n",
      "            Volume  \n",
      "Date                \n",
      "2024-08-08  311900  \n",
      "2024-08-09  215100  \n",
      "2024-08-12  279900  \n",
      "2024-08-13  239700  \n",
      "2024-08-14  303300  \n",
      "2024-08-16\n"
     ]
    },
    {
     "name": "stderr",
     "output_type": "stream",
     "text": [
      "\n"
     ]
    },
    {
     "ename": "ValueError",
     "evalue": "Expiration `2024-08-16` cannot be found. Available expirations are: []",
     "output_type": "error",
     "traceback": [
      "\u001b[1;31m---------------------------------------------------------------------------\u001b[0m",
      "\u001b[1;31mValueError\u001b[0m                                Traceback (most recent call last)",
      "Cell \u001b[1;32mIn[9], line 17\u001b[0m\n\u001b[0;32m     15\u001b[0m expiry_date \u001b[38;5;241m=\u001b[39m (datetime\u001b[38;5;241m.\u001b[39mnow() \u001b[38;5;241m+\u001b[39m timedelta(days\u001b[38;5;241m=\u001b[39m\u001b[38;5;241m0\u001b[39m))\u001b[38;5;241m.\u001b[39mstrftime(\u001b[38;5;124m'\u001b[39m\u001b[38;5;124m%\u001b[39m\u001b[38;5;124mY-\u001b[39m\u001b[38;5;124m%\u001b[39m\u001b[38;5;124mm-\u001b[39m\u001b[38;5;132;01m%d\u001b[39;00m\u001b[38;5;124m'\u001b[39m)\n\u001b[0;32m     16\u001b[0m \u001b[38;5;28mprint\u001b[39m(expiry_date)\n\u001b[1;32m---> 17\u001b[0m options_data \u001b[38;5;241m=\u001b[39m yf\u001b[38;5;241m.\u001b[39mTicker(ticker)\u001b[38;5;241m.\u001b[39moption_chain(expiry_date)\n\u001b[0;32m     19\u001b[0m \u001b[38;5;66;03m# Display the option chain data (calls and puts)\u001b[39;00m\n\u001b[0;32m     20\u001b[0m \u001b[38;5;28mprint\u001b[39m(options_data\u001b[38;5;241m.\u001b[39mcalls\u001b[38;5;241m.\u001b[39mhead())\n",
      "File \u001b[1;32m~\\AppData\\Roaming\\Python\\Python311\\site-packages\\yfinance\\ticker.py:89\u001b[0m, in \u001b[0;36mTicker.option_chain\u001b[1;34m(self, date, tz)\u001b[0m\n\u001b[0;32m     87\u001b[0m     \u001b[38;5;28mself\u001b[39m\u001b[38;5;241m.\u001b[39m_download_options()\n\u001b[0;32m     88\u001b[0m \u001b[38;5;28;01mif\u001b[39;00m date \u001b[38;5;129;01mnot\u001b[39;00m \u001b[38;5;129;01min\u001b[39;00m \u001b[38;5;28mself\u001b[39m\u001b[38;5;241m.\u001b[39m_expirations:\n\u001b[1;32m---> 89\u001b[0m     \u001b[38;5;28;01mraise\u001b[39;00m \u001b[38;5;167;01mValueError\u001b[39;00m(\n\u001b[0;32m     90\u001b[0m         \u001b[38;5;124mf\u001b[39m\u001b[38;5;124m\"\u001b[39m\u001b[38;5;124mExpiration `\u001b[39m\u001b[38;5;132;01m{\u001b[39;00mdate\u001b[38;5;132;01m}\u001b[39;00m\u001b[38;5;124m` cannot be found. \u001b[39m\u001b[38;5;124m\"\u001b[39m\n\u001b[0;32m     91\u001b[0m         \u001b[38;5;124mf\u001b[39m\u001b[38;5;124m\"\u001b[39m\u001b[38;5;124mAvailable expirations are: [\u001b[39m\u001b[38;5;132;01m{\u001b[39;00m\u001b[38;5;124m'\u001b[39m\u001b[38;5;124m, \u001b[39m\u001b[38;5;124m'\u001b[39m\u001b[38;5;241m.\u001b[39mjoin(\u001b[38;5;28mself\u001b[39m\u001b[38;5;241m.\u001b[39m_expirations)\u001b[38;5;132;01m}\u001b[39;00m\u001b[38;5;124m]\u001b[39m\u001b[38;5;124m\"\u001b[39m)\n\u001b[0;32m     92\u001b[0m date \u001b[38;5;241m=\u001b[39m \u001b[38;5;28mself\u001b[39m\u001b[38;5;241m.\u001b[39m_expirations[date]\n\u001b[0;32m     93\u001b[0m options \u001b[38;5;241m=\u001b[39m \u001b[38;5;28mself\u001b[39m\u001b[38;5;241m.\u001b[39m_download_options(date)\n",
      "\u001b[1;31mValueError\u001b[0m: Expiration `2024-08-16` cannot be found. Available expirations are: []"
     ]
    }
   ],
   "source": [
    "import yfinance as yf\n",
    "import pandas as pd\n",
    "import numpy as np\n",
    "from datetime import datetime, timedelta\n",
    "\n",
    "# Step 1: Download Nifty 50 index data\n",
    "#nifty_data = yf.download(\"^NSEI\", start=\"2023-08-16\", end=\"2024-08-16\")\n",
    "nifty_data = yf.download(\"^NSEI\", start=(datetime.now() - timedelta(days=365)).strftime('%Y-%m-%d'), end=datetime.now().strftime('%Y-%m-%d'))\n",
    "\n",
    "# Display the last few rows of data\n",
    "print(nifty_data.tail())\n",
    "\n",
    "# Step 2: Download Nifty 50 option chain for a specific expiration date\n",
    "ticker = \"^NSEI\"\n",
    "expiry_date = (datetime.now() + timedelta(days=0)).strftime('%Y-%m-%d')\n",
    "print(expiry_date)\n",
    "options_data = yf.Ticker(ticker).option_chain(expiry_date)\n",
    "\n",
    "# Display the option chain data (calls and puts)\n",
    "print(options_data.calls.head())\n",
    "print(options_data.puts.head())\n",
    "\n",
    "# Step 3: Select an options trading strategy (e.g., buying a call option)\n",
    "strike_price = nifty_data['Close'][-1] * 1.02  # Slightly out of the money\n",
    "selected_option = options_data.calls[options_data.calls['strike'] >= strike_price].iloc[0]\n",
    "\n",
    "# Step 4: Simulate the trade\n",
    "entry_price = selected_option['lastPrice']\n",
    "quantity = 1  # Number of contracts\n",
    "investment = entry_price * quantity\n",
    "\n",
    "print(f\"Buying {quantity} call option contract at strike {selected_option['strike']} for Rs. {entry_price} per contract.\")\n",
    "print(f\"Total investment: Rs. {investment}\")\n",
    "\n",
    "# Step 5: Evaluate the performance after a certain period\n",
    "# For simplicity, assume we hold until the expiration date or a significant price move\n",
    "holding_period = 30  # days\n",
    "exit_price = selected_option['lastPrice'] * 1.1  # Assume a 10% increase for the exit\n",
    "profit = (exit_price - entry_price) * quantity\n",
    "\n",
    "print(f\"Exit price: Rs. {exit_price} per contract.\")\n",
    "print(f\"Profit from the trade: Rs. {profit}\")\n",
    "\n",
    "# Step 6: Implement risk management (e.g., stop-loss, position sizing)\n",
    "stop_loss = 0.9 * entry_price  # 10% stop loss\n",
    "if exit_price < stop_loss:\n",
    "    print(\"Stop-loss triggered. Exiting the trade.\")\n",
    "    profit = (stop_loss - entry_price) * quantity\n",
    "\n",
    "print(f\"Final profit/loss from the trade: Rs. {profit}\")\n"
   ]
  },
  {
   "cell_type": "code",
   "execution_count": 13,
   "metadata": {},
   "outputs": [
    {
     "name": "stdout",
     "output_type": "stream",
     "text": [
      "                                   Open          High           Low  \\\n",
      "Date                                                                  \n",
      "2023-08-16 00:00:00+05:30  19369.000000  19482.750000  19317.199219   \n",
      "2023-08-17 00:00:00+05:30  19450.550781  19461.550781  19326.250000   \n",
      "2023-08-18 00:00:00+05:30  19301.750000  19373.800781  19253.599609   \n",
      "2023-08-21 00:00:00+05:30  19320.650391  19425.949219  19296.300781   \n",
      "2023-08-22 00:00:00+05:30  19417.099609  19443.500000  19381.300781   \n",
      "...                                 ...           ...           ...   \n",
      "2024-08-09 00:00:00+05:30  24386.849609  24419.750000  24311.199219   \n",
      "2024-08-12 00:00:00+05:30  24320.050781  24472.800781  24212.099609   \n",
      "2024-08-13 00:00:00+05:30  24342.349609  24359.949219  24116.500000   \n",
      "2024-08-14 00:00:00+05:30  24184.400391  24196.500000  24099.699219   \n",
      "2024-08-16 00:00:00+05:30  24334.849609  24403.550781  24204.500000   \n",
      "\n",
      "                                  Close  Volume  Dividends  Stock Splits  \n",
      "Date                                                                      \n",
      "2023-08-16 00:00:00+05:30  19465.000000       0        0.0           0.0  \n",
      "2023-08-17 00:00:00+05:30  19365.250000  268700        0.0           0.0  \n",
      "2023-08-18 00:00:00+05:30  19310.150391  256100        0.0           0.0  \n",
      "2023-08-21 00:00:00+05:30  19393.599609  262600        0.0           0.0  \n",
      "2023-08-22 00:00:00+05:30  19396.449219  208700        0.0           0.0  \n",
      "...                                 ...     ...        ...           ...  \n",
      "2024-08-09 00:00:00+05:30  24367.500000  215100        0.0           0.0  \n",
      "2024-08-12 00:00:00+05:30  24347.000000  279900        0.0           0.0  \n",
      "2024-08-13 00:00:00+05:30  24139.000000  239700        0.0           0.0  \n",
      "2024-08-14 00:00:00+05:30  24143.750000  303300        0.0           0.0  \n",
      "2024-08-16 00:00:00+05:30  24354.400391       0        0.0           0.0  \n",
      "\n",
      "[245 rows x 7 columns]\n",
      "2024-08-16\n"
     ]
    },
    {
     "ename": "ValueError",
     "evalue": "Expiration `2024-08-16` cannot be found. Available expirations are: []",
     "output_type": "error",
     "traceback": [
      "\u001b[1;31m---------------------------------------------------------------------------\u001b[0m",
      "\u001b[1;31mValueError\u001b[0m                                Traceback (most recent call last)",
      "Cell \u001b[1;32mIn[13], line 13\u001b[0m\n\u001b[0;32m     11\u001b[0m expiry_date \u001b[38;5;241m=\u001b[39m (datetime\u001b[38;5;241m.\u001b[39mnow() \u001b[38;5;241m+\u001b[39m timedelta(days\u001b[38;5;241m=\u001b[39m\u001b[38;5;241m0\u001b[39m))\u001b[38;5;241m.\u001b[39mstrftime(\u001b[38;5;124m'\u001b[39m\u001b[38;5;124m%\u001b[39m\u001b[38;5;124mY-\u001b[39m\u001b[38;5;124m%\u001b[39m\u001b[38;5;124mm-\u001b[39m\u001b[38;5;132;01m%d\u001b[39;00m\u001b[38;5;124m'\u001b[39m)\n\u001b[0;32m     12\u001b[0m \u001b[38;5;28mprint\u001b[39m(expiry_date)\n\u001b[1;32m---> 13\u001b[0m options_data \u001b[38;5;241m=\u001b[39m yf\u001b[38;5;241m.\u001b[39mTicker(ticker)\u001b[38;5;241m.\u001b[39moption_chain(expiry_date)\n\u001b[0;32m     15\u001b[0m \u001b[38;5;66;03m# Display the option chain data (calls and puts)\u001b[39;00m\n\u001b[0;32m     16\u001b[0m \u001b[38;5;28mprint\u001b[39m(options_data\u001b[38;5;241m.\u001b[39mcalls\u001b[38;5;241m.\u001b[39mhead())\n",
      "File \u001b[1;32m~\\AppData\\Roaming\\Python\\Python311\\site-packages\\yfinance\\ticker.py:89\u001b[0m, in \u001b[0;36mTicker.option_chain\u001b[1;34m(self, date, tz)\u001b[0m\n\u001b[0;32m     87\u001b[0m     \u001b[38;5;28mself\u001b[39m\u001b[38;5;241m.\u001b[39m_download_options()\n\u001b[0;32m     88\u001b[0m \u001b[38;5;28;01mif\u001b[39;00m date \u001b[38;5;129;01mnot\u001b[39;00m \u001b[38;5;129;01min\u001b[39;00m \u001b[38;5;28mself\u001b[39m\u001b[38;5;241m.\u001b[39m_expirations:\n\u001b[1;32m---> 89\u001b[0m     \u001b[38;5;28;01mraise\u001b[39;00m \u001b[38;5;167;01mValueError\u001b[39;00m(\n\u001b[0;32m     90\u001b[0m         \u001b[38;5;124mf\u001b[39m\u001b[38;5;124m\"\u001b[39m\u001b[38;5;124mExpiration `\u001b[39m\u001b[38;5;132;01m{\u001b[39;00mdate\u001b[38;5;132;01m}\u001b[39;00m\u001b[38;5;124m` cannot be found. \u001b[39m\u001b[38;5;124m\"\u001b[39m\n\u001b[0;32m     91\u001b[0m         \u001b[38;5;124mf\u001b[39m\u001b[38;5;124m\"\u001b[39m\u001b[38;5;124mAvailable expirations are: [\u001b[39m\u001b[38;5;132;01m{\u001b[39;00m\u001b[38;5;124m'\u001b[39m\u001b[38;5;124m, \u001b[39m\u001b[38;5;124m'\u001b[39m\u001b[38;5;241m.\u001b[39mjoin(\u001b[38;5;28mself\u001b[39m\u001b[38;5;241m.\u001b[39m_expirations)\u001b[38;5;132;01m}\u001b[39;00m\u001b[38;5;124m]\u001b[39m\u001b[38;5;124m\"\u001b[39m)\n\u001b[0;32m     92\u001b[0m date \u001b[38;5;241m=\u001b[39m \u001b[38;5;28mself\u001b[39m\u001b[38;5;241m.\u001b[39m_expirations[date]\n\u001b[0;32m     93\u001b[0m options \u001b[38;5;241m=\u001b[39m \u001b[38;5;28mself\u001b[39m\u001b[38;5;241m.\u001b[39m_download_options(date)\n",
      "\u001b[1;31mValueError\u001b[0m: Expiration `2024-08-16` cannot be found. Available expirations are: []"
     ]
    }
   ],
   "source": [
    "import yfinance as yf\n",
    "\n",
    "# Fetch Nifty 50 data\n",
    "nifty50 = yf.Ticker(\"^NSEI\")\n",
    "\n",
    "# Get historical market data\n",
    "nifty_data = nifty50.history(period=\"1y\", interval=\"1d\")\n",
    "\n",
    "print(nifty_data)\n",
    "\n",
    "expiry_date = (datetime.now() + timedelta(days=0)).strftime('%Y-%m-%d')\n",
    "print(expiry_date)\n",
    "options_data = yf.Ticker(ticker).option_chain(expiry_date)\n",
    "\n",
    "# Display the option chain data (calls and puts)\n",
    "print(options_data.calls.head())\n",
    "print(options_data.puts.head())\n",
    "\n",
    "# Step 3: Select an options trading strategy (e.g., buying a call option)\n",
    "strike_price = nifty_data['Close'][-1] * 1.02  # Slightly out of the money\n",
    "selected_option = options_data.calls[options_data.calls['strike'] >= strike_price].iloc[0]\n",
    "\n",
    "# Step 4: Simulate the trade\n",
    "entry_price = selected_option['lastPrice']\n",
    "quantity = 1  # Number of contracts\n",
    "investment = entry_price * quantity\n",
    "\n",
    "print(f\"Buying {quantity} call option contract at strike {selected_option['strike']} for Rs. {entry_price} per contract.\")\n",
    "print(f\"Total investment: Rs. {investment}\")\n",
    "\n",
    "# Step 5: Evaluate the performance after a certain period\n",
    "# For simplicity, assume we hold until the expiration date or a significant price move\n",
    "holding_period = 30  # days\n",
    "exit_price = selected_option['lastPrice'] * 1.1  # Assume a 10% increase for the exit\n",
    "profit = (exit_price - entry_price) * quantity\n",
    "\n",
    "print(f\"Exit price: Rs. {exit_price} per contract.\")\n",
    "print(f\"Profit from the trade: Rs. {profit}\")\n",
    "\n",
    "# Step 6: Implement risk management (e.g., stop-loss, position sizing)\n",
    "stop_loss = 0.9 * entry_price  # 10% stop loss\n",
    "if exit_price < stop_loss:\n",
    "    print(\"Stop-loss triggered. Exiting the trade.\")\n",
    "    profit = (stop_loss - entry_price) * quantity\n",
    "\n",
    "print(f\"Final profit/loss from the trade: Rs. {profit}\")\n"
   ]
  },
  {
   "cell_type": "code",
   "execution_count": 14,
   "metadata": {},
   "outputs": [
    {
     "name": "stdout",
     "output_type": "stream",
     "text": [
      "Defaulting to user installation because normal site-packages is not writeable\n",
      "Collecting nsetools\n",
      "  Obtaining dependency information for nsetools from https://files.pythonhosted.org/packages/f5/b3/6aac4226a927d5f23f154c06de7c100361e9fa07e932cd76aaa8c45a2af4/nsetools-1.0.11-py3-none-any.whl.metadata\n",
      "  Downloading nsetools-1.0.11-py3-none-any.whl.metadata (1.9 kB)\n",
      "Requirement already satisfied: six in c:\\programdata\\anaconda3\\lib\\site-packages (from nsetools) (1.16.0)\n",
      "Collecting dateutils (from nsetools)\n",
      "  Obtaining dependency information for dateutils from https://files.pythonhosted.org/packages/1e/23/cbac954194e5132448cfec0148be1318baac99e68ed597b3d7ff4ae5c182/dateutils-0.6.12-py2.py3-none-any.whl.metadata\n",
      "  Downloading dateutils-0.6.12-py2.py3-none-any.whl.metadata (1.3 kB)\n",
      "Requirement already satisfied: python-dateutil in c:\\programdata\\anaconda3\\lib\\site-packages (from dateutils->nsetools) (2.8.2)\n",
      "Requirement already satisfied: pytz in c:\\programdata\\anaconda3\\lib\\site-packages (from dateutils->nsetools) (2023.3.post1)\n",
      "Downloading nsetools-1.0.11-py3-none-any.whl (9.6 kB)\n",
      "Downloading dateutils-0.6.12-py2.py3-none-any.whl (5.7 kB)\n",
      "Installing collected packages: dateutils, nsetools\n",
      "Successfully installed dateutils-0.6.12 nsetools-1.0.11\n"
     ]
    },
    {
     "name": "stderr",
     "output_type": "stream",
     "text": [
      "  WARNING: The scripts dateadd.exe and datediff.exe are installed in 'C:\\Users\\jyoti\\AppData\\Roaming\\Python\\Python311\\Scripts' which is not on PATH.\n",
      "  Consider adding this directory to PATH or, if you prefer to suppress this warning, use --no-warn-script-location.\n"
     ]
    }
   ],
   "source": [
    "!pip install nsetools"
   ]
  },
  {
   "cell_type": "code",
   "execution_count": 15,
   "metadata": {},
   "outputs": [
    {
     "ename": "IndexError",
     "evalue": "tuple index out of range",
     "output_type": "error",
     "traceback": [
      "\u001b[1;31m---------------------------------------------------------------------------\u001b[0m",
      "\u001b[1;31mIndexError\u001b[0m                                Traceback (most recent call last)",
      "Cell \u001b[1;32mIn[15], line 14\u001b[0m\n\u001b[0;32m     11\u001b[0m expiration_dates \u001b[38;5;241m=\u001b[39m nifty50\u001b[38;5;241m.\u001b[39moptions\n\u001b[0;32m     13\u001b[0m \u001b[38;5;66;03m# Select the desired expiration date (e.g., the first available date)\u001b[39;00m\n\u001b[1;32m---> 14\u001b[0m selected_expiration \u001b[38;5;241m=\u001b[39m expiration_dates[\u001b[38;5;241m0\u001b[39m]  \u001b[38;5;66;03m# You can change this to your desired date\u001b[39;00m\n\u001b[0;32m     16\u001b[0m \u001b[38;5;66;03m# Fetch the option chain for the selected expiration date\u001b[39;00m\n\u001b[0;32m     17\u001b[0m option_chain \u001b[38;5;241m=\u001b[39m nifty50\u001b[38;5;241m.\u001b[39moption_chain(selected_expiration)\n",
      "\u001b[1;31mIndexError\u001b[0m: tuple index out of range"
     ]
    }
   ],
   "source": [
    "import yfinance as yf\n",
    "import pandas as pd\n",
    "\n",
    "# Define the ticker symbol for Nifty 50 Index\n",
    "nifty50_ticker = \"^NSEI\"\n",
    "\n",
    "# Fetch the Nifty 50 data\n",
    "nifty50 = yf.Ticker(nifty50_ticker)\n",
    "\n",
    "# Get the available expiration dates for options\n",
    "expiration_dates = nifty50.options\n",
    "\n",
    "# Select the desired expiration date (e.g., the first available date)\n",
    "selected_expiration = expiration_dates[0]  # You can change this to your desired date\n",
    "\n",
    "# Fetch the option chain for the selected expiration date\n",
    "option_chain = nifty50.option_chain(selected_expiration)\n",
    "\n",
    "# Extract calls and puts data\n",
    "calls = option_chain.calls\n",
    "puts = option_chain.puts\n",
    "\n",
    "# Save to Excel or CSV\n",
    "calls.to_csv(f'nifty50_calls_{selected_expiration}.csv', index=False)\n",
    "puts.to_csv(f'nifty50_puts_{selected_expiration}.csv', index=False)\n",
    "\n",
    "# Print the first few rows of the calls and puts\n",
    "print(\"Calls:\\n\", calls.head())\n",
    "print(\"\\nPuts:\\n\", puts.head())\n"
   ]
  }
 ],
 "metadata": {
  "kernelspec": {
   "display_name": "ai_ml_expo",
   "language": "python",
   "name": "ai_ml_expo"
  },
  "language_info": {
   "codemirror_mode": {
    "name": "ipython",
    "version": 3
   },
   "file_extension": ".py",
   "mimetype": "text/x-python",
   "name": "python",
   "nbconvert_exporter": "python",
   "pygments_lexer": "ipython3",
   "version": "3.11.5"
  }
 },
 "nbformat": 4,
 "nbformat_minor": 2
}
