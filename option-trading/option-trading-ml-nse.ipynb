{
 "cells": [
  {
   "cell_type": "code",
   "execution_count": null,
   "metadata": {},
   "outputs": [],
   "source": [
    "!pip install yfinance scikit-learn pandas numpy matplotlib"
   ]
  },
  {
   "cell_type": "code",
   "execution_count": 2,
   "metadata": {},
   "outputs": [
    {
     "name": "stderr",
     "output_type": "stream",
     "text": [
      "[*********************100%%**********************]  1 of 1 completed"
     ]
    },
    {
     "name": "stdout",
     "output_type": "stream",
     "text": [
      "                    Open          High           Low         Close  \\\n",
      "Date                                                                 \n",
      "2020-01-01  12202.150391  12222.200195  12165.299805  12182.500000   \n",
      "2020-01-02  12198.549805  12289.900391  12195.250000  12282.200195   \n",
      "2020-01-03  12261.099609  12265.599609  12191.349609  12226.650391   \n",
      "2020-01-06  12170.599609  12179.099609  11974.200195  11993.049805   \n",
      "2020-01-07  12079.099609  12152.150391  12005.349609  12052.950195   \n",
      "\n",
      "               Adj Close  Volume  \n",
      "Date                              \n",
      "2020-01-01  12182.500000  304100  \n",
      "2020-01-02  12282.200195  407700  \n",
      "2020-01-03  12226.650391  428800  \n",
      "2020-01-06  11993.049805  396500  \n",
      "2020-01-07  12052.950195  447800  \n"
     ]
    },
    {
     "name": "stderr",
     "output_type": "stream",
     "text": [
      "\n"
     ]
    }
   ],
   "source": [
    "import yfinance as yf\n",
    "import pandas as pd\n",
    "\n",
    "# Fetch historical data for Nifty 50 index (NSE)\n",
    "nifty_data = yf.download(\"^NSEI\", start=\"2020-01-01\", end=\"2024-08-16\")\n",
    "\n",
    "# Display the first few rows\n",
    "print(nifty_data.head())\n"
   ]
  },
  {
   "cell_type": "code",
   "execution_count": null,
   "metadata": {},
   "outputs": [],
   "source": []
  },
  {
   "cell_type": "code",
   "execution_count": 6,
   "metadata": {},
   "outputs": [
    {
     "name": "stdout",
     "output_type": "stream",
     "text": [
      "Date\n",
      "2020-01-28             NaN\n",
      "2020-01-29             NaN\n",
      "2020-01-30             NaN\n",
      "2020-01-31             NaN\n",
      "2020-02-03             NaN\n",
      "                  ...     \n",
      "2024-08-08    24541.404980\n",
      "2024-08-09    24543.982520\n",
      "2024-08-12    24536.225000\n",
      "2024-08-13    24513.840039\n",
      "2024-08-14    24490.377539\n",
      "Name: SMA_20, Length: 1124, dtype: float64\n",
      "Date\n",
      "2020-01-28         NaN\n",
      "2020-01-29    0.006113\n",
      "2020-01-30   -0.007725\n",
      "2020-01-31   -0.006123\n",
      "2020-02-03   -0.021250\n",
      "                ...   \n",
      "2024-08-08   -0.007429\n",
      "2024-08-09    0.010387\n",
      "2024-08-12   -0.000841\n",
      "2024-08-13   -0.008543\n",
      "2024-08-14    0.000197\n",
      "Name: Daily_Return, Length: 1124, dtype: float64\n",
      "Date\n",
      "2020-03-02    1\n",
      "2020-03-04    0\n",
      "2020-03-11    0\n",
      "2020-03-12    1\n",
      "2020-03-13    0\n",
      "             ..\n",
      "2024-07-30    1\n",
      "2024-07-31    1\n",
      "2024-08-01    0\n",
      "2024-08-06    1\n",
      "2024-08-08    0\n",
      "Name: Target, Length: 333, dtype: int32\n"
     ]
    },
    {
     "data": {
      "text/plain": [
       "(                  SMA_20  Daily_Return\n",
       " Date                                  \n",
       " 2020-03-02  11908.017627     -0.006160\n",
       " 2020-03-04  11851.355078     -0.004627\n",
       " 2020-03-11  11591.922607      0.000665\n",
       " 2020-03-12  11466.035107     -0.083019\n",
       " 2020-03-13  11353.735107      0.038065\n",
       " ...                  ...           ...\n",
       " 2024-07-30  24490.012402      0.000854\n",
       " 2024-07-31  24531.377441      0.003776\n",
       " 2024-08-01  24567.597461      0.002395\n",
       " 2024-08-06  24558.562402     -0.002621\n",
       " 2024-08-08  24541.404980     -0.007429\n",
       " \n",
       " [333 rows x 2 columns],\n",
       " Date\n",
       " 2020-03-02    1\n",
       " 2020-03-04    0\n",
       " 2020-03-11    0\n",
       " 2020-03-12    1\n",
       " 2020-03-13    0\n",
       "              ..\n",
       " 2024-07-30    1\n",
       " 2024-07-31    1\n",
       " 2024-08-01    0\n",
       " 2024-08-06    1\n",
       " 2024-08-08    0\n",
       " Name: Target, Length: 333, dtype: int32)"
      ]
     },
     "execution_count": 6,
     "metadata": {},
     "output_type": "execute_result"
    }
   ],
   "source": [
    "# Create a simple moving average (SMA) and daily return\n",
    "nifty_data['SMA_20'] = nifty_data['Close'].rolling(window=20).mean()\n",
    "nifty_data['Daily_Return'] = nifty_data['Close'].pct_change()\n",
    "\n",
    "print(nifty_data['SMA_20'])\n",
    "print(nifty_data['Daily_Return'])\n",
    "\n",
    "# Drop rows with NaN values\n",
    "nifty_data.dropna(inplace=True)\n",
    "\n",
    "# Define the target variable (1 for price increase, 0 for decrease)\n",
    "nifty_data['Target'] = (nifty_data['Close'].shift(-1) > nifty_data['Close']).astype(int)\n",
    "print(nifty_data['Target'])\n",
    "# Select features and target\n",
    "features = ['SMA_20', 'Daily_Return']\n",
    "X = nifty_data[features]\n",
    "y = nifty_data['Target']\n",
    "\n",
    "X , y"
   ]
  },
  {
   "cell_type": "code",
   "execution_count": 4,
   "metadata": {},
   "outputs": [
    {
     "name": "stdout",
     "output_type": "stream",
     "text": [
      "Model Accuracy: 0.53\n"
     ]
    }
   ],
   "source": [
    "from sklearn.ensemble import RandomForestClassifier\n",
    "from sklearn.model_selection import train_test_split\n",
    "from sklearn.metrics import accuracy_score\n",
    "\n",
    "# Split the data into training and testing sets\n",
    "X_train, X_test, y_train, y_test = train_test_split(X, y, test_size=0.3, random_state=42)\n",
    "\n",
    "# Initialize the model\n",
    "model = RandomForestClassifier(n_estimators=100, random_state=42)\n",
    "\n",
    "# Train the model\n",
    "model.fit(X_train, y_train)\n",
    "\n",
    "# Make predictions\n",
    "y_pred = model.predict(X_test)\n",
    "\n",
    "# Evaluate the model\n",
    "accuracy = accuracy_score(y_test, y_pred)\n",
    "print(f\"Model Accuracy: {accuracy:.2f}\")\n"
   ]
  },
  {
   "cell_type": "code",
   "execution_count": 5,
   "metadata": {},
   "outputs": [
    {
     "name": "stdout",
     "output_type": "stream",
     "text": [
      "Final Balance: 0.00, Profit: -10000.00\n"
     ]
    }
   ],
   "source": [
    "import numpy as np\n",
    "\n",
    "# Add predictions to the original dataset with correct alignment\n",
    "nifty_data['Prediction'] = np.nan\n",
    "\n",
    "# Align the predictions with the correct indices\n",
    "predictions_df = pd.DataFrame(data={'Prediction': y_pred}, index=X_test.index)\n",
    "nifty_data.update(predictions_df)\n",
    "\n",
    "# Simulate a simple backtest strategy\n",
    "initial_balance = 10000\n",
    "balance = initial_balance\n",
    "shares = 0\n",
    "\n",
    "for i in range(len(nifty_data) - 1):\n",
    "    if nifty_data['Prediction'].iloc[i] == 1:\n",
    "        # Buy the index\n",
    "        shares = balance / nifty_data['Close'].iloc[i]\n",
    "        balance = 0\n",
    "    elif shares > 0:\n",
    "        # Sell the index\n",
    "        balance = shares * nifty_data['Close'].iloc[i]\n",
    "        shares = 0\n",
    "\n",
    "# Final balance\n",
    "final_balance = balance + (shares * nifty_data['Close'].iloc[-1])\n",
    "print(f\"Final Balance: {final_balance:.2f}, Profit: {final_balance - initial_balance:.2f}\")\n"
   ]
  }
 ],
 "metadata": {
  "kernelspec": {
   "display_name": "ai_ml_expo",
   "language": "python",
   "name": "ai_ml_expo"
  },
  "language_info": {
   "codemirror_mode": {
    "name": "ipython",
    "version": 3
   },
   "file_extension": ".py",
   "mimetype": "text/x-python",
   "name": "python",
   "nbconvert_exporter": "python",
   "pygments_lexer": "ipython3",
   "version": "3.11.5"
  }
 },
 "nbformat": 4,
 "nbformat_minor": 2
}
