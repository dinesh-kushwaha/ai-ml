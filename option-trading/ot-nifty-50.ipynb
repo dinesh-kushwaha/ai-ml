{
 "cells": [
  {
   "cell_type": "code",
   "execution_count": 1,
   "metadata": {},
   "outputs": [
    {
     "name": "stdout",
     "output_type": "stream",
     "text": [
      "Defaulting to user installation because normal site-packages is not writeable\n",
      "Collecting nsepy\n",
      "  Downloading nsepy-0.8.tar.gz (33 kB)\n",
      "  Preparing metadata (setup.py): started\n",
      "  Preparing metadata (setup.py): finished with status 'done'\n",
      "Requirement already satisfied: beautifulsoup4 in c:\\programdata\\anaconda3\\lib\\site-packages (from nsepy) (4.12.2)\n",
      "Requirement already satisfied: requests in c:\\programdata\\anaconda3\\lib\\site-packages (from nsepy) (2.31.0)\n",
      "Requirement already satisfied: numpy in c:\\programdata\\anaconda3\\lib\\site-packages (from nsepy) (1.24.3)\n",
      "Requirement already satisfied: pandas in c:\\programdata\\anaconda3\\lib\\site-packages (from nsepy) (2.1.4)\n",
      "Requirement already satisfied: six in c:\\programdata\\anaconda3\\lib\\site-packages (from nsepy) (1.16.0)\n",
      "Requirement already satisfied: click in c:\\programdata\\anaconda3\\lib\\site-packages (from nsepy) (8.1.7)\n",
      "Requirement already satisfied: lxml in c:\\programdata\\anaconda3\\lib\\site-packages (from nsepy) (4.9.3)\n",
      "Requirement already satisfied: soupsieve>1.2 in c:\\programdata\\anaconda3\\lib\\site-packages (from beautifulsoup4->nsepy) (2.5)\n",
      "Requirement already satisfied: colorama in c:\\programdata\\anaconda3\\lib\\site-packages (from click->nsepy) (0.4.6)\n",
      "Requirement already satisfied: python-dateutil>=2.8.2 in c:\\programdata\\anaconda3\\lib\\site-packages (from pandas->nsepy) (2.8.2)\n",
      "Requirement already satisfied: pytz>=2020.1 in c:\\programdata\\anaconda3\\lib\\site-packages (from pandas->nsepy) (2023.3.post1)\n",
      "Requirement already satisfied: tzdata>=2022.1 in c:\\programdata\\anaconda3\\lib\\site-packages (from pandas->nsepy) (2023.3)\n",
      "Requirement already satisfied: charset-normalizer<4,>=2 in c:\\programdata\\anaconda3\\lib\\site-packages (from requests->nsepy) (2.0.4)\n",
      "Requirement already satisfied: idna<4,>=2.5 in c:\\programdata\\anaconda3\\lib\\site-packages (from requests->nsepy) (3.4)\n",
      "Requirement already satisfied: urllib3<3,>=1.21.1 in c:\\users\\jyoti\\appdata\\roaming\\python\\python311\\site-packages (from requests->nsepy) (1.26.18)\n",
      "Requirement already satisfied: certifi>=2017.4.17 in c:\\programdata\\anaconda3\\lib\\site-packages (from requests->nsepy) (2024.6.2)\n",
      "Building wheels for collected packages: nsepy\n",
      "  Building wheel for nsepy (setup.py): started\n",
      "  Building wheel for nsepy (setup.py): finished with status 'done'\n",
      "  Created wheel for nsepy: filename=nsepy-0.8-py3-none-any.whl size=36067 sha256=a6b14fc0a98fd0eabce666a0ac763c665703deae39398e43849d3e095f8c730a\n",
      "  Stored in directory: c:\\users\\jyoti\\appdata\\local\\pip\\cache\\wheels\\94\\a7\\d4\\0e4e94292f5761407472684b2cd74771e9985af72f968101e0\n",
      "Successfully built nsepy\n",
      "Installing collected packages: nsepy\n",
      "Successfully installed nsepy-0.8\n"
     ]
    },
    {
     "name": "stderr",
     "output_type": "stream",
     "text": [
      "  WARNING: The script nsecli.exe is installed in 'C:\\Users\\jyoti\\AppData\\Roaming\\Python\\Python311\\Scripts' which is not on PATH.\n",
      "  Consider adding this directory to PATH or, if you prefer to suppress this warning, use --no-warn-script-location.\n"
     ]
    }
   ],
   "source": [
    "!pip install nsepy\n"
   ]
  },
  {
   "cell_type": "code",
   "execution_count": 4,
   "metadata": {},
   "outputs": [
    {
     "name": "stdout",
     "output_type": "stream",
     "text": [
      "Empty DataFrame\n",
      "Columns: [Symbol, Expiry, Option Type, Strike Price, Open, High, Low, Close, Last, Settle Price, Number of Contracts, Turnover, Premium Turnover, Open Interest, Change in OI, Underlying]\n",
      "Index: []\n"
     ]
    }
   ],
   "source": [
    "from nsepy import get_history\n",
    "from datetime import date\n",
    "\n",
    "# Fetch historical options data for NIFTY\n",
    "option_data = get_history(symbol=\"NIFTY\",\n",
    "                          start=date(2024, 1, 1),\n",
    "                          end=date(2024, 12, 31),\n",
    "                          index=True,\n",
    "                          option_type=\"CE\", # CE for Call Option, PE for Put Option\n",
    "                          strike_price=16000,\n",
    "                          expiry_date=date(2024, 12, 31))\n",
    "\n",
    "print(option_data.head())\n"
   ]
  }
 ],
 "metadata": {
  "kernelspec": {
   "display_name": "ai_ml_expo",
   "language": "python",
   "name": "ai_ml_expo"
  },
  "language_info": {
   "codemirror_mode": {
    "name": "ipython",
    "version": 3
   },
   "file_extension": ".py",
   "mimetype": "text/x-python",
   "name": "python",
   "nbconvert_exporter": "python",
   "pygments_lexer": "ipython3",
   "version": "3.11.5"
  }
 },
 "nbformat": 4,
 "nbformat_minor": 2
}
