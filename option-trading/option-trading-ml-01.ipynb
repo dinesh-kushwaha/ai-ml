{
 "cells": [
  {
   "cell_type": "code",
   "execution_count": null,
   "metadata": {},
   "outputs": [],
   "source": [
    "!pip install yfinance scikit-learn pandas numpy matplotlib"
   ]
  },
  {
   "cell_type": "code",
   "execution_count": 1,
   "metadata": {},
   "outputs": [
    {
     "name": "stderr",
     "output_type": "stream",
     "text": [
      "[*********************100%%**********************]  1 of 1 completed"
     ]
    },
    {
     "name": "stdout",
     "output_type": "stream",
     "text": [
      "                 Open       High        Low      Close  Adj Close     Volume\n",
      "Date                                                                        \n",
      "2020-01-02  74.059998  75.150002  73.797501  75.087502  72.876114  135480400\n",
      "2020-01-03  74.287498  75.144997  74.125000  74.357498  72.167587  146322800\n",
      "2020-01-06  73.447502  74.989998  73.187500  74.949997  72.742630  118387200\n",
      "2020-01-07  74.959999  75.224998  74.370003  74.597504  72.400551  108872000\n",
      "2020-01-08  74.290001  76.110001  74.290001  75.797501  73.565193  132079200\n"
     ]
    },
    {
     "name": "stderr",
     "output_type": "stream",
     "text": [
      "\n"
     ]
    }
   ],
   "source": [
    "import yfinance as yf\n",
    "import pandas as pd\n",
    "\n",
    "# Fetch historical data for a stock (e.g., AAPL)\n",
    "stock_data = yf.download(\"AAPL\", start=\"2020-01-01\", end=\"2023-01-01\")\n",
    "\n",
    "# Display the first few rows\n",
    "print(stock_data.head())\n"
   ]
  },
  {
   "cell_type": "code",
   "execution_count": 2,
   "metadata": {},
   "outputs": [],
   "source": [
    "# Create a simple moving average (SMA) and daily return\n",
    "stock_data['SMA_20'] = stock_data['Close'].rolling(window=20).mean()\n",
    "stock_data['Daily_Return'] = stock_data['Close'].pct_change()\n",
    "\n",
    "# Drop rows with NaN values\n",
    "stock_data.dropna(inplace=True)\n",
    "\n",
    "# Define the target variable (1 for price increase, 0 for decrease)\n",
    "stock_data['Target'] = (stock_data['Close'].shift(-1) > stock_data['Close']).astype(int)\n",
    "\n",
    "# Select features and target\n",
    "features = ['SMA_20', 'Daily_Return']\n",
    "X = stock_data[features]\n",
    "y = stock_data['Target']\n"
   ]
  },
  {
   "cell_type": "code",
   "execution_count": 3,
   "metadata": {},
   "outputs": [
    {
     "name": "stdout",
     "output_type": "stream",
     "text": [
      "Model Accuracy: 0.49\n"
     ]
    }
   ],
   "source": [
    "from sklearn.ensemble import RandomForestClassifier\n",
    "from sklearn.model_selection import train_test_split\n",
    "from sklearn.metrics import accuracy_score\n",
    "\n",
    "# Split the data into training and testing sets\n",
    "X_train, X_test, y_train, y_test = train_test_split(X, y, test_size=0.3, random_state=42)\n",
    "\n",
    "# Initialize the model\n",
    "model = RandomForestClassifier(n_estimators=100, random_state=42)\n",
    "\n",
    "# Train the model\n",
    "model.fit(X_train, y_train)\n",
    "\n",
    "# Make predictions\n",
    "y_pred = model.predict(X_test)\n",
    "\n",
    "# Evaluate the model\n",
    "accuracy = accuracy_score(y_test, y_pred)\n",
    "print(f\"Model Accuracy: {accuracy:.2f}\")\n"
   ]
  },
  {
   "cell_type": "code",
   "execution_count": 5,
   "metadata": {},
   "outputs": [
    {
     "name": "stdout",
     "output_type": "stream",
     "text": [
      "Final Balance: 0.00, Profit: -10000.00\n"
     ]
    }
   ],
   "source": [
    "import numpy as np\n",
    "\n",
    "# Add predictions to the original dataset with correct alignment\n",
    "stock_data['Prediction'] = np.nan\n",
    "\n",
    "# Align the predictions with the correct indices\n",
    "predictions_df = pd.DataFrame(data={'Prediction': y_pred}, index=X_test.index)\n",
    "stock_data.update(predictions_df)\n",
    "\n",
    "# Simulate a simple backtest strategy\n",
    "initial_balance = 10000\n",
    "balance = initial_balance\n",
    "shares = 0\n",
    "\n",
    "for i in range(len(stock_data) - 1):\n",
    "    if stock_data['Prediction'].iloc[i] == 1:\n",
    "        # Buy stock\n",
    "        shares = balance / stock_data['Close'].iloc[i]\n",
    "        balance = 0\n",
    "    elif shares > 0:\n",
    "        # Sell stock\n",
    "        balance = shares * stock_data['Close'].iloc[i]\n",
    "        shares = 0\n",
    "\n",
    "# Final balance\n",
    "final_balance = balance + (shares * stock_data['Close'].iloc[-1])\n",
    "print(f\"Final Balance: {final_balance:.2f}, Profit: {final_balance - initial_balance:.2f}\")\n"
   ]
  }
 ],
 "metadata": {
  "kernelspec": {
   "display_name": "ai_ml_expo",
   "language": "python",
   "name": "ai_ml_expo"
  },
  "language_info": {
   "codemirror_mode": {
    "name": "ipython",
    "version": 3
   },
   "file_extension": ".py",
   "mimetype": "text/x-python",
   "name": "python",
   "nbconvert_exporter": "python",
   "pygments_lexer": "ipython3",
   "version": "3.11.5"
  }
 },
 "nbformat": 4,
 "nbformat_minor": 2
}
