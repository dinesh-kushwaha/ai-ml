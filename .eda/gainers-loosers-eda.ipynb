{
 "cells": [
  {
   "cell_type": "code",
   "execution_count": null,
   "metadata": {},
   "outputs": [],
   "source": [
    "import pandas as pd\n",
    "\n",
    "# Replace 'path_to_file.csv' with the path to your CSV file\n",
    "df = pd.read_csv('../.data/gainers-loosers/2024-08-16/T20-GL-gainers-allSec-18-Aug-2024.csv')\n",
    "\n",
    "# Display the first few rows of the DataFrame to verify it loaded correctly\n",
    "print(df.head())\n"
   ]
  }
 ],
 "metadata": {
  "language_info": {
   "name": "python"
  }
 },
 "nbformat": 4,
 "nbformat_minor": 2
}
