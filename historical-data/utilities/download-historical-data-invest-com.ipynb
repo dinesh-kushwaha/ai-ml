{
  "cells": [
    {
      "cell_type": "markdown",
      "metadata": {
        "id": "view-in-github",
        "colab_type": "text"
      },
      "source": [
        "<a href=\"https://colab.research.google.com/github/dinesh-kushwaha/ai-ml/blob/main/historical-data/utilities/download-historical-data-invest-com.ipynb\" target=\"_parent\"><img src=\"https://colab.research.google.com/assets/colab-badge.svg\" alt=\"Open In Colab\"/></a>"
      ]
    },
    {
      "cell_type": "markdown",
      "source": [
        "**Data Processing Tools**"
      ],
      "metadata": {
        "id": "zQUaBJAme_IS"
      }
    },
    {
      "cell_type": "markdown",
      "source": [
        "importing the libraries"
      ],
      "metadata": {
        "id": "53eIrK87fO8M"
      }
    },
    {
      "cell_type": "code",
      "execution_count": null,
      "metadata": {
        "id": "0aqG7JXoeapg",
        "outputId": "e07bfc30-8e18-435e-f23b-c0c2141d65cd",
        "colab": {
          "base_uri": "https://localhost:8080/"
        }
      },
      "outputs": [
        {
          "output_type": "stream",
          "name": "stdout",
          "text": [
            "Collecting investpy\n",
            "  Downloading investpy-1.0.8.tar.gz (4.4 MB)\n",
            "\u001b[2K     \u001b[90m━━━━━━━━━━━━━━━━━━━━━━━━━━━━━━━━━━━━━━━━\u001b[0m \u001b[32m4.4/4.4 MB\u001b[0m \u001b[31m32.7 MB/s\u001b[0m eta \u001b[36m0:00:00\u001b[0m\n",
            "\u001b[?25h  Preparing metadata (setup.py) ... \u001b[?25l\u001b[?25hdone\n",
            "Collecting Unidecode>=1.1.1 (from investpy)\n",
            "  Downloading Unidecode-1.3.8-py3-none-any.whl.metadata (13 kB)\n",
            "Requirement already satisfied: setuptools>=41.2.0 in /usr/local/lib/python3.10/dist-packages (from investpy) (71.0.4)\n",
            "Requirement already satisfied: numpy>=1.17.2 in /usr/local/lib/python3.10/dist-packages (from investpy) (1.26.4)\n",
            "Requirement already satisfied: pandas>=0.25.1 in /usr/local/lib/python3.10/dist-packages (from investpy) (2.1.4)\n",
            "Requirement already satisfied: lxml>=4.4.1 in /usr/local/lib/python3.10/dist-packages (from investpy) (4.9.4)\n",
            "Requirement already satisfied: requests>=2.22.0 in /usr/local/lib/python3.10/dist-packages (from investpy) (2.32.3)\n",
            "Requirement already satisfied: pytz>=2019.3 in /usr/local/lib/python3.10/dist-packages (from investpy) (2024.1)\n",
            "Requirement already satisfied: python-dateutil>=2.8.2 in /usr/local/lib/python3.10/dist-packages (from pandas>=0.25.1->investpy) (2.8.2)\n",
            "Requirement already satisfied: tzdata>=2022.1 in /usr/local/lib/python3.10/dist-packages (from pandas>=0.25.1->investpy) (2024.1)\n",
            "Requirement already satisfied: charset-normalizer<4,>=2 in /usr/local/lib/python3.10/dist-packages (from requests>=2.22.0->investpy) (3.3.2)\n",
            "Requirement already satisfied: idna<4,>=2.5 in /usr/local/lib/python3.10/dist-packages (from requests>=2.22.0->investpy) (3.7)\n",
            "Requirement already satisfied: urllib3<3,>=1.21.1 in /usr/local/lib/python3.10/dist-packages (from requests>=2.22.0->investpy) (2.0.7)\n",
            "Requirement already satisfied: certifi>=2017.4.17 in /usr/local/lib/python3.10/dist-packages (from requests>=2.22.0->investpy) (2024.7.4)\n",
            "Requirement already satisfied: six>=1.5 in /usr/local/lib/python3.10/dist-packages (from python-dateutil>=2.8.2->pandas>=0.25.1->investpy) (1.16.0)\n",
            "Downloading Unidecode-1.3.8-py3-none-any.whl (235 kB)\n",
            "\u001b[2K   \u001b[90m━━━━━━━━━━━━━━━━━━━━━━━━━━━━━━━━━━━━━━━━\u001b[0m \u001b[32m235.5/235.5 kB\u001b[0m \u001b[31m13.6 MB/s\u001b[0m eta \u001b[36m0:00:00\u001b[0m\n",
            "\u001b[?25hBuilding wheels for collected packages: investpy\n",
            "  Building wheel for investpy (setup.py) ... \u001b[?25l\u001b[?25hdone\n",
            "  Created wheel for investpy: filename=investpy-1.0.8-py3-none-any.whl size=4481565 sha256=ed20f094af62332574545c2db2bc9c0d84ea4a4b9d91a73d1c0eff209a8c5cd0\n",
            "  Stored in directory: /root/.cache/pip/wheels/db/f4/ae/980b93b0257620bc8e4afc98a854a7a746a33eb8335fd07906\n",
            "Successfully built investpy\n",
            "Installing collected packages: Unidecode, investpy\n",
            "Successfully installed Unidecode-1.3.8 investpy-1.0.8\n"
          ]
        }
      ],
      "source": [
        "!pip install investpy"
      ]
    },
    {
      "cell_type": "markdown",
      "source": [
        "Investpy is a Python package to retrieve data from Investing.com... investpy allows the user to download both recent and historical data from all the financial products indexed at Investing.com. It includes data from all over the world, from countries such as United States, France, India, Spain, Russia, or Germany, amongst many others.\n",
        "\n",
        "https://in.investing.com/earnings-calendar/"
      ],
      "metadata": {
        "id": "vjxikTLAhc9R"
      }
    },
    {
      "cell_type": "code",
      "source": [
        "import investpy\n",
        "\n",
        "data = investpy.economic_calendar(\n",
        "    from_date='12/08/2024',\n",
        "    to_date  ='13/09/2024'\n",
        ")\n",
        "print(data.head())"
      ],
      "metadata": {
        "id": "TOt5fU_pfmy8",
        "outputId": "d9ddc78a-e10a-41d5-cd20-0ac5b3685db4",
        "colab": {
          "base_uri": "https://localhost:8080/"
        }
      },
      "execution_count": null,
      "outputs": [
        {
          "output_type": "stream",
          "name": "stdout",
          "text": [
            "       id        date     time         zone currency importance  \\\n",
            "0     293  12/08/2024  All Day     zimbabwe     None       None   \n",
            "1     657  12/08/2024  All Day        japan     None       None   \n",
            "2     772  12/08/2024  All Day     thailand     None       None   \n",
            "3  504736  12/08/2024    01:00  philippines      PHP        low   \n",
            "4  504721  12/08/2024    01:30    australia      AUD     medium   \n",
            "\n",
            "                                               event actual forecast previous  \n",
            "0                     Zimbabwe - National Heroes Day   None     None     None  \n",
            "1                               Japan - Mountain Day   None     None     None  \n",
            "2  Thailand - H.M. Queen Sirikit The Queen Mother...   None     None     None  \n",
            "3  Philippines Foreign Direct Investment (USD)  (...   None     None    0.56B  \n",
            "4                     NAB Business Confidence  (Jul)   None     None        4  \n"
          ]
        }
      ]
    }
  ],
  "metadata": {
    "language_info": {
      "name": "python"
    },
    "colab": {
      "provenance": [],
      "include_colab_link": true
    },
    "kernelspec": {
      "name": "python3",
      "display_name": "Python 3"
    }
  },
  "nbformat": 4,
  "nbformat_minor": 0
}