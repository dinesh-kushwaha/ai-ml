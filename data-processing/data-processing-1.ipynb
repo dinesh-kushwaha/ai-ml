{
  "cells": [
    {
      "cell_type": "markdown",
      "metadata": {
        "id": "zQUaBJAme_IS"
      },
      "source": [
        "**Data Processing Tools**"
      ]
    },
    {
      "cell_type": "markdown",
      "metadata": {
        "id": "53eIrK87fO8M"
      },
      "source": [
        "importing the libraries"
      ]
    },
    {
      "cell_type": "code",
      "execution_count": 1,
      "metadata": {
        "id": "0aqG7JXoeapg"
      },
      "outputs": [],
      "source": [
        "import numpy as np\n",
        "import matplotlib.pyplot as plt\n",
        "import pandas as pd"
      ]
    },
    {
      "cell_type": "markdown",
      "metadata": {
        "id": "NKeN0kNkfYCg"
      },
      "source": [
        "Importing the dataset"
      ]
    },
    {
      "cell_type": "code",
      "execution_count": 3,
      "metadata": {
        "colab": {
          "base_uri": "https://localhost:8080/"
        },
        "id": "0toCvh--fcT0",
        "outputId": "9d32ab8a-53fc-4a34-eba4-d119ef6dd053"
      },
      "outputs": [
        {
          "name": "stdout",
          "output_type": "stream",
          "text": [
            "   Country  Age  Salary Purchased\n",
            "0   France   44   72000        No\n",
            "1    Spain   27   48000       Yes\n",
            "2  Germany   30   54000        No\n",
            "3    Spain   38   61000        No\n",
            "4  Germany   40   58000       Yes\n",
            "5   France   35   52000       Yes\n",
            "6    Spain   30   54000        No\n",
            "7   France   48   79000       Yes\n",
            "8  Germany   50   83000        No\n",
            "9   France   37   67000       Yes\n"
          ]
        }
      ],
      "source": [
        "dataset=pd.read_csv('Data.csv')\n",
        "print(dataset)"
      ]
    }
  ],
  "metadata": {
    "colab": {
      "provenance": []
    },
    "kernelspec": {
      "display_name": "ai_ml_expo",
      "language": "python",
      "name": "ai_ml_expo"
    },
    "language_info": {
      "codemirror_mode": {
        "name": "ipython",
        "version": 3
      },
      "file_extension": ".py",
      "mimetype": "text/x-python",
      "name": "python",
      "nbconvert_exporter": "python",
      "pygments_lexer": "ipython3",
      "version": "3.11.5"
    }
  },
  "nbformat": 4,
  "nbformat_minor": 0
}
