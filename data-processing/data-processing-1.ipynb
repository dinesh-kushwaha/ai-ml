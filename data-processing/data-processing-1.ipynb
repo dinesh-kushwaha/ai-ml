{
  "cells": [
    {
      "cell_type": "markdown",
      "source": [
        "**Data Processing Tools**"
      ],
      "metadata": {
        "id": "zQUaBJAme_IS"
      }
    },
    {
      "cell_type": "markdown",
      "source": [
        "importing the libraries"
      ],
      "metadata": {
        "id": "53eIrK87fO8M"
      }
    },
    {
      "cell_type": "code",
      "execution_count": 1,
      "metadata": {
        "id": "0aqG7JXoeapg"
      },
      "outputs": [],
      "source": [
        "import numpy as np\n",
        "import matplotlib.pyplot as plt\n",
        "import pandas as pd"
      ]
    },
    {
      "cell_type": "markdown",
      "source": [
        "Importing the dataset"
      ],
      "metadata": {
        "id": "NKeN0kNkfYCg"
      }
    },
    {
      "cell_type": "code",
      "source": [
        "dataset=pd.read_csv('Data.csv')\n",
        "print(dataset)"
      ],
      "metadata": {
        "id": "0toCvh--fcT0",
        "outputId": "9d32ab8a-53fc-4a34-eba4-d119ef6dd053",
        "colab": {
          "base_uri": "https://localhost:8080/"
        }
      },
      "execution_count": 2,
      "outputs": [
        {
          "output_type": "stream",
          "name": "stdout",
          "text": [
            "  Country\\tAge\\tSalary\\tPurchased\n",
            "0           France\\t44\\t72000\\tNo\n",
            "1           Spain\\t27\\t48000\\tYes\n",
            "2          Germany\\t30\\t54000\\tNo\n",
            "3            Spain\\t38\\t61000\\tNo\n",
            "4         Germany\\t40\\t58000\\tYes\n",
            "5          France\\t35\\t52000\\tYes\n",
            "6            Spain\\t30\\t54000\\tNo\n",
            "7          France\\t48\\t79000\\tYes\n",
            "8          Germany\\t50\\t83000\\tNo\n",
            "9          France\\t37\\t67000\\tYes\n"
          ]
        }
      ]
    }
  ],
  "metadata": {
    "language_info": {
      "name": "python"
    },
    "colab": {
      "provenance": []
    },
    "kernelspec": {
      "name": "python3",
      "display_name": "Python 3"
    }
  },
  "nbformat": 4,
  "nbformat_minor": 0
}